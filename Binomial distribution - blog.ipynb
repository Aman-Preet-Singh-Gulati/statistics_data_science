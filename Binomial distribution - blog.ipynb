{
 "cells": [
  {
   "cell_type": "markdown",
   "metadata": {},
   "source": [
    "## Overview\n",
    "\n",
    "In this article we will be discussing about the **binomial distribution** where along with the theoritical knowledge of this partciular distribution we will also see the practical implementation of the same for that we have to perform an experiement of **flipping the coin** and in this experiment we will take two situation which are **biased and unbiased** condition."
   ]
  },
  {
   "cell_type": "markdown",
   "metadata": {},
   "source": [
    "## Probability distribution in statistics\n",
    "\n",
    "Before moving to the main thing i.e. **binomial distribution** let's discuss the background of **probability distribution** in statitics and it's types and for that let's have a question and answer segment.\n",
    "\n",
    "* **What does the term probability distribution mean?**\n",
    "\n",
    "If you are hearing any term for the first time just keep in mind to break it down and get whatever insight you can, here if we will break it down so it has possibility and distribution which resembles **\"Distributing all the possible/valid values according to the chances of their occurence for a selected random variable\"**. By doing this we will get the range of values which will have the maximum and the minimum value and along with that it will be dependent on various factors like **skewness, standard deviation, kurtosis** etc.\n",
    "\n",
    "* **What are the types of probability distribution?**\n",
    "\n",
    "So the distribution is divided into two main parts:\n",
    "\n",
    "1. **Discrete Probability Distributions**: This segment of the distribution signifies that how many times a **descrete random value** has occured in a graphical structure when we will plot it.\n",
    "2. **Continuous Probability Distributions**: Similarly this segment signifies that how mamy times a **continous random variable** has occured in a graph."
   ]
  },
  {
   "cell_type": "markdown",
   "metadata": {},
   "source": [
    "## Importing statistics package\n",
    "\n",
    "Here we will be importing all the required packages which will involve do to the calculation stuff of all the statistics concepts and visualization of distribution"
   ]
  },
  {
   "cell_type": "code",
   "execution_count": 6,
   "metadata": {},
   "outputs": [],
   "source": [
    "%matplotlib inline\n",
    "\n",
    "import numpy as np\n",
    "import pandas as pd\n",
    "import matplotlib.pyplot as plt\n",
    "import scipy.stats as stats"
   ]
  },
  {
   "cell_type": "markdown",
   "metadata": {},
   "source": [
    "## The Binomial Distribution"
   ]
  },
  {
   "cell_type": "markdown",
   "metadata": {},
   "source": [
    "Binomial is one of the kind of discrete distribution which simplifies one thing accurately i.e. it works on the **discrete random variables** and if we go through the typical definitions of binomial then it demonstrates that this kind of distribution of variables deals with the **binary scenarios** i.e. it will take the **two independent values** under the specified number of parameters with valid values of params to draw the plot based on the all the data points it considered after performing certain **number of trials**.\n",
    "\n",
    "**What kind of trials it perform?**\n",
    "\n",
    "Answer: Here, it performs the trials named as **Bernoulli trials** and to go with it we have to meet certain criterias and they are:\n",
    "\n",
    "1. There should always be only 2 possible outcomes which fullfill the criteria of binary scenarios\n",
    "2. Every happening trials should be completely independent on other trials which are already occured or yet to be occur.\n",
    "3. Each outcome should occur i.e. there should be fixed likelihood of outcome to take place in an expirement.\n",
    "\n",
    "\n",
    "**Binomial function in python has three parameters to deal with and they are as follows:**\n",
    "\n",
    "1. **n:** This value denote the number of trials that needs to be occured in an experiment.\n",
    "2. **p:** This indicate the likelihood of the occurence that will happen after each trial, we can take an example of tossing a coin where it has the occurence as 0.5 for each.\n",
    "3. **shape:** This is bascially responsible for how the shape should be of an array after a sucessfull trial ."
   ]
  },
  {
   "cell_type": "markdown",
   "metadata": {},
   "source": [
    "## Expirement for binomial distribution\n",
    "\n",
    "In this section we will be using python's statistics packages to perform these distribution functions and visualize the same in this way we will not only be going through the theroitcal part of it but able to understand with application of real world and get to know about business related use cases.\n",
    "\n",
    "\n",
    "**Experiment**\n",
    "\n",
    "In this expirement we are taking the famous flipping the coin example where we will be flipping the fair coin for 10 times ( this can be denoted as **number of trials**) and in this particular trials we will change the occurence of success to see the changes in the histograms (denoted as **success proability** which we say likelihood of the occured event) and also the number of trials.\n",
    "\n",
    "**What this experiment will tell us?**\n",
    "\n",
    "So here this question actually means that what conclusions we can draw after the experiment that is performed so it will tell us when it is likely to get either 1 head or 2 head or 3 head or even 0 head and so on."
   ]
  },
  {
   "cell_type": "markdown",
   "metadata": {},
   "source": [
    "## Binom function\n",
    "\n",
    "So why we are actually using Python as we know we have the formula for binomial distribution so we can easily put values in it and implement the same but it becomes a very tidious task to follow on such complex calculation for that reason the **scipy package** of python have a reserve of almost all the statistics packages similarly it have the **binom function** in the **stats** class.\n",
    "\n",
    "\n",
    "**About binom function**\n",
    "\n",
    "Binom function in scipy package just need **three** valid parameters values to give us the binomial distribution of all the values which were specified in **number of trials**\n",
    "\n",
    "**Note:** The paramters it need is exactly the same which I discussed previously."
   ]
  },
  {
   "cell_type": "code",
   "execution_count": 7,
   "metadata": {},
   "outputs": [
    {
     "name": "stdout",
     "output_type": "stream",
     "text": [
      "col_0   0   1    2     3     4     5     6     7    8   9   10\n",
      "row_0                                                         \n",
      "counts   9  93  435  1200  2052  2419  2041  1212  439  90  10\n"
     ]
    }
   ],
   "source": [
    "fair_coin_flips = stats.binom.rvs(n=10,        \n",
    "                                  p=0.5,       \n",
    "                                  size=10000)  \n",
    "\n",
    "print(pd.crosstab(index=\"counts\", columns= fair_coin_flips))"
   ]
  },
  {
   "cell_type": "markdown",
   "metadata": {},
   "source": [
    "**Code breakdown**\n",
    "\n",
    "1. Here firstly we are accessing the binom's **\"rvs\"** function from the scipy's **stats** package and then we are giving the paraamters value as:\n",
    "* **n = 10** i.e. Total numbr of flips likely to occur oer trial\n",
    "* **p = 0.5** i.e. occurence of each event i.e. success probability\n",
    "* **size = 10000** i.e. total number of trial in an experiement.\n",
    "\n",
    "2. Then with the help of crosstab function of pandas we are getting the DataFrame which have counts and the number of coin flips from 1 to 10 "
   ]
  },
  {
   "cell_type": "markdown",
   "metadata": {},
   "source": [
    "**Plotting the results**\n",
    "\n",
    "In this sub-section we will plot the the values that we got after performing the complete experimenent of flipping the **Fair coins** here I'm mentioning the fair coins as the p value is **0.5** which is an **unbiased probability** value in the next section we will also discuss about unbiased distribution."
   ]
  },
  {
   "cell_type": "code",
   "execution_count": 8,
   "metadata": {
    "scrolled": true
   },
   "outputs": [
    {
     "data": {
      "text/plain": [
       "array([[<AxesSubplot:title={'center':'0'}>]], dtype=object)"
      ]
     },
     "execution_count": 8,
     "metadata": {},
     "output_type": "execute_result"
    },
    {
     "data": {
      "image/png": "[encoded data removed]",
      "text/plain": [
       "<Figure size 432x288 with 1 Axes>"
      ]
     },
     "metadata": {
      "needs_background": "light"
     },
     "output_type": "display_data"
    }
   ],
   "source": [
    "pd.DataFrame(fair_coin_flips).hist(range=(-0.5,10.5), bins=11)"
   ]
  },
  {
   "cell_type": "markdown",
   "metadata": {},
   "source": [
    "**Inference:**\n",
    "\n",
    "In the above output we can see that this plot demenstrates the **\"symmetric\"** graph and it shows us the **50%** of the success probability with most of the outcomes that have occured in the trials are **situated in the center**\n",
    "\n",
    "**Note:** As we are well aware of the fact that binomial distribution belongs to the **discrete** part hence it can only hold up the integer values for that reason we can express these values as the **frequency table** and for its distribution we can use **histogram**"
   ]
  },
  {
   "cell_type": "markdown",
   "metadata": {},
   "source": [
    "### Biased condition\n",
    "\n",
    "Now let's change the success probability value from 0.5 to 0.8 - **Biased condition** of flipping the coin experiment. In this section just after changing the value to **0.8** we will realise that it will be turned out to be baised condition and which will be reflected in the values of **frequency table** and **histogram** as well."
   ]
  },
  {
   "cell_type": "code",
   "execution_count": 9,
   "metadata": {},
   "outputs": [
    {
     "name": "stdout",
     "output_type": "stream",
     "text": [
      "col_0   3   4    5    6     7     8     9     10\n",
      "row_0                                           \n",
      "counts   2  51  274  859  2004  3113  2611  1086\n"
     ]
    }
   ],
   "source": [
    "biased_coin_flips = stats.binom.rvs(n=10,      \n",
    "                                  p=0.8,       \n",
    "                                  size=10000)  \n",
    "\n",
    "\n",
    "# Printing the frequency table of counts\n",
    "print(pd.crosstab(index=\"counts\", columns= biased_coin_flips))"
   ]
  },
  {
   "cell_type": "markdown",
   "metadata": {},
   "source": [
    "**Code breakdown:**\n",
    "\n",
    "Code explanation is exactly the same as we have discussed previously just a change is in the value of success probability to 0.8 to determine and test the biased condition."
   ]
  },
  {
   "cell_type": "code",
   "execution_count": 10,
   "metadata": {},
   "outputs": [
    {
     "data": {
      "image/png": "[encoded data removed]",
      "text/plain": [
       "<Figure size 432x288 with 1 Axes>"
      ]
     },
     "metadata": {
      "needs_background": "light"
     },
     "output_type": "display_data"
    }
   ],
   "source": [
    "# Plot the histogram of above frequency table\n",
    "pd.DataFrame(biased_coin_flips).hist(range=(-0.5,10.5), bins=11);"
   ]
  },
  {
   "cell_type": "markdown",
   "metadata": {},
   "source": [
    "**Inference:** If we will compare the above biased condition plot and the previous unbiased condition plot then we can surely spot the difference in this first condition i.e. **unbiased** one have the **symmetric distribution** most of the data points from the frequency table were situated in the **center** while the other one have the **skewed structure i.e. non-symmentric** and in this plot we can see most of the data points are shifted to right corner of the plot.\n",
    "\n",
    "**Note:** Such plot are regarded as the **\"right-skewed\"** distribution."
   ]
  },
  {
   "cell_type": "markdown",
   "metadata": {},
   "source": [
    "## Key takeaways from the article\n",
    "\n",
    "In this article we have discussed everything one needs to know about the binomial distribution from learning about the theoritical part of it to performing an expirement on flipping the coin and traversing through both the condition of that experiment.\n",
    "\n",
    "1. Firstly we laid the foundation of understarding the terms of distribution in statitics and also the types of it.\n",
    "2. Then we move specifically towards the binomial distribution and learned about it and its function and parameters.\n",
    "3. Then at the last for practical knowledge we performed an experiment which helped us to visualize the results and helped to understand this distribution more perfectly."
   ]
  }
 ],
 "metadata": {
  "kernelspec": {
   "display_name": "Python 3",
   "language": "python",
   "name": "python3"
  },
  "language_info": {
   "codemirror_mode": {
    "name": "ipython",
    "version": 3
   },
   "file_extension": ".py",
   "mimetype": "text/x-python",
   "name": "python",
   "nbconvert_exporter": "python",
   "pygments_lexer": "ipython3",
   "version": "3.8.5"
  },
  "varInspector": {
   "cols": {
    "lenName": 16,
    "lenType": 16,
    "lenVar": 40
   },
   "kernels_config": {
    "python": {
     "delete_cmd_postfix": "",
     "delete_cmd_prefix": "del ",
     "library": "var_list.py",
     "varRefreshCmd": "print(var_dic_list())"
    },
    "r": {
     "delete_cmd_postfix": ") ",
     "delete_cmd_prefix": "rm(",
     "library": "var_list.r",
     "varRefreshCmd": "cat(var_dic_list()) "
    }
   },
   "types_to_exclude": [
    "module",
    "function",
    "builtin_function_or_method",
    "instance",
    "_Feature"
   ],
   "window_display": false
  }
 },
 "nbformat": 4,
 "nbformat_minor": 4
}
